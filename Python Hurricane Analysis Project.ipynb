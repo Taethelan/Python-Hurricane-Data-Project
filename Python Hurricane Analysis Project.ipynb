{
 "cells": [
  {
   "cell_type": "markdown",
   "metadata": {},
   "source": [
    "## Raw Huriccane Data"
   ]
  },
  {
   "cell_type": "code",
   "execution_count": 1,
   "metadata": {},
   "outputs": [],
   "source": [
    "# names of hurricanes\n",
    "names = ['Cuba I', 'San Felipe II Okeechobee', 'Bahamas', 'Cuba II', 'CubaBrownsville', 'Tampico', 'Labor Day', 'New England', 'Carol', 'Janet', 'Carla', 'Hattie', 'Beulah', 'Camille', 'Edith', 'Anita', 'David', 'Allen', 'Gilbert', 'Hugo', 'Andrew', 'Mitch', 'Isabel', 'Ivan', 'Emily', 'Katrina', 'Rita', 'Wilma', 'Dean', 'Felix', 'Matthew', 'Irma', 'Maria', 'Michael']\n",
    "\n",
    "# months of hurricanes\n",
    "months = ['October', 'September', 'September', 'November', 'August', 'September', 'September', 'September', 'September', 'September', 'September', 'October', 'September', 'August', 'September', 'September', 'August', 'August', 'September', 'September', 'August', 'October', 'September', 'September', 'July', 'August', 'September', 'October', 'August', 'September', 'October', 'September', 'September', 'October']\n",
    "\n",
    "# years of hurricanes\n",
    "years = [1924, 1928, 1932, 1932, 1933, 1933, 1935, 1938, 1953, 1955, 1961, 1961, 1967, 1969, 1971, 1977, 1979, 1980, 1988, 1989, 1992, 1998, 2003, 2004, 2005, 2005, 2005, 2005, 2007, 2007, 2016, 2017, 2017, 2018]\n",
    "\n",
    "# maximum sustained winds (mph) of hurricanes\n",
    "max_sustained_winds = [165, 160, 160, 175, 160, 160, 185, 160, 160, 175, 175, 160, 160, 175, 160, 175, 175, 190, 185, 160, 175, 180, 165, 165, 160, 175, 180, 185, 175, 175, 165, 180, 175, 160]\n",
    "\n",
    "# areas affected by each hurricane\n",
    "areas_affected = [['Central America', 'Mexico', 'Cuba', 'Florida', 'The Bahamas'], ['Lesser Antilles', 'The Bahamas', 'United States East Coast', 'Atlantic Canada'], ['The Bahamas', 'Northeastern United States'], ['Lesser Antilles', 'Jamaica', 'Cayman Islands', 'Cuba', 'The Bahamas', 'Bermuda'], ['The Bahamas', 'Cuba', 'Florida', 'Texas', 'Tamaulipas'], ['Jamaica', 'Yucatn Peninsula'], ['The Bahamas', 'Florida', 'Georgia', 'The Carolinas', 'Virginia'], ['Southeastern United States', 'Northeastern United States', 'Southwestern Quebec'], ['Bermuda', 'New England', 'Atlantic Canada'], ['Lesser Antilles', 'Central America'], ['Texas', 'Louisiana', 'Midwestern United States'], ['Central America'], ['The Caribbean', 'Mexico', 'Texas'], ['Cuba', 'United States Gulf Coast'], ['The Caribbean', 'Central America', 'Mexico', 'United States Gulf Coast'], ['Mexico'], ['The Caribbean', 'United States East coast'], ['The Caribbean', 'Yucatn Peninsula', 'Mexico', 'South Texas'], ['Jamaica', 'Venezuela', 'Central America', 'Hispaniola', 'Mexico'], ['The Caribbean', 'United States East Coast'], ['The Bahamas', 'Florida', 'United States Gulf Coast'], ['Central America', 'Yucatn Peninsula', 'South Florida'], ['Greater Antilles', 'Bahamas', 'Eastern United States', 'Ontario'], ['The Caribbean', 'Venezuela', 'United States Gulf Coast'], ['Windward Islands', 'Jamaica', 'Mexico', 'Texas'], ['Bahamas', 'United States Gulf Coast'], ['Cuba', 'United States Gulf Coast'], ['Greater Antilles', 'Central America', 'Florida'], ['The Caribbean', 'Central America'], ['Nicaragua', 'Honduras'], ['Antilles', 'Venezuela', 'Colombia', 'United States East Coast', 'Atlantic Canada'], ['Cape Verde', 'The Caribbean', 'British Virgin Islands', 'U.S. Virgin Islands', 'Cuba', 'Florida'], ['Lesser Antilles', 'Virgin Islands', 'Puerto Rico', 'Dominican Republic', 'Turks and Caicos Islands'], ['Central America', 'United States Gulf Coast (especially Florida Panhandle)']]\n",
    "\n",
    "# damages (USD($)) of hurricanes\n",
    "damages = ['Damages not recorded', '100M', 'Damages not recorded', '40M', '27.9M', '5M', 'Damages not recorded', '306M', '2M', '65.8M', '326M', '60.3M', '208M', '1.42B', '25.4M', 'Damages not recorded', '1.54B', '1.24B', '7.1B', '10B', '26.5B', '6.2B', '5.37B', '23.3B', '1.01B', '125B', '12B', '29.4B', '1.76B', '720M', '15.1B', '64.8B', '91.6B', '25.1B']\n",
    "\n",
    "# deaths for each hurricane\n",
    "deaths = [90,4000,16,3103,179,184,408,682,5,1023,43,319,688,259,37,11,2068,269,318,107,65,19325,51,124,17,1836,125,87,45,133,603,138,3057,74]"
   ]
  },
  {
   "cell_type": "markdown",
   "metadata": {},
   "source": [
    "### _1. Write a function that returns a new list of updated damages where the recorded data is converted to float values and the missing data is retained as \"Damages not recorded\"._"
   ]
  },
  {
   "cell_type": "code",
   "execution_count": 2,
   "metadata": {},
   "outputs": [],
   "source": [
    "def update_damages(dmg_lst):\n",
    "  updated_damages = []\n",
    "  for i in damages:\n",
    "    if i == \"Damages not recorded\":\n",
    "      updated_damages.append(\"Damages not recorded\")\n",
    "    elif i[-1] == \"M\":\n",
    "      updated_damages.append(float(i[:-1]) * 1000000)\n",
    "    elif i[-1] == \"B\":\n",
    "      updated_damages.append(float(i[:-1]) * 1000000000)\n",
    "  return updated_damages\n",
    "\n",
    "damages_values = (update_damages(damages))"
   ]
  },
  {
   "cell_type": "markdown",
   "metadata": {},
   "source": [
    "### _2. Write a function that constructs a dictionary made out of the lists, where the keys of the dictionary are the names of the hurricanes, and the values are dictionaries themselves containing a key for each piece of data (Name, Month, Year,Max Sustained Wind, Areas Affected, Damage, Death) about the hurricane._"
   ]
  },
  {
   "cell_type": "code",
   "execution_count": 3,
   "metadata": {},
   "outputs": [],
   "source": [
    "def create_hurricane_dictionary(name_data, month_data, year_data, wind_data, area_data, damage_data, death_data):\n",
    "  hurricane_data = {}\n",
    "  for i in range(len(name_data)):\n",
    "    hurricane_data[name_data[i]] = {\"Name\": name_data[i], \"Month\": month_data[i], \"Year\": year_data[i],\"Max Sustained Wind\": wind_data[i], \"Areas Affected\": area_data[i], \"Damage\": damage_data[i], \"Deaths\": death_data[i]}\n",
    "  return hurricane_data\n",
    "\n",
    "hurricane_data =(create_hurricane_dictionary(names, months, years, max_sustained_winds, areas_affected, damages_values, deaths))"
   ]
  },
  {
   "cell_type": "markdown",
   "metadata": {},
   "source": [
    "### _3. Write a function that converts the current dictionary of hurricanes to a new dictionary, where the keys are years and the values are lists containing a dictionary for each hurricane that occurred in that year._"
   ]
  },
  {
   "cell_type": "code",
   "execution_count": 4,
   "metadata": {},
   "outputs": [],
   "source": [
    "def convert_to_year_key(hurricane_dictionary):\n",
    "  year_data = {}\n",
    "  for key in hurricane_dictionary:\n",
    "    year_data[hurricane_dictionary.get(key).get(\"Year\")] = hurricane_dictionary.get(key)\n",
    "  return year_data\n",
    "\n",
    "year_data = (convert_to_year_key(hurricane_data))"
   ]
  },
  {
   "cell_type": "markdown",
   "metadata": {},
   "source": [
    "### _4. Write a function that counts how often each area is listed as an affected area of a hurricane. Store and return the results in a dictionary where the keys are the affected areas and the values are counts of how many times the areas were affected._"
   ]
  },
  {
   "cell_type": "code",
   "execution_count": 5,
   "metadata": {},
   "outputs": [],
   "source": [
    "def count_affected_areas(hurricane_dictionary):\n",
    "  area_lst = {}\n",
    "  for data in hurricane_dictionary.values():\n",
    "    for area in data.get(\"Areas Affected\"):\n",
    "      if area not in area_lst:\n",
    "        area_lst[area] = 1\n",
    "      else:\n",
    "        area_lst[area] += 1\n",
    "  return area_lst\n",
    "\n",
    "affected_area_data = (count_affected_areas(hurricane_data))"
   ]
  },
  {
   "cell_type": "markdown",
   "metadata": {},
   "source": [
    "### _5. Write a function that finds the area affected by the most hurricanes, and how often it was hit._"
   ]
  },
  {
   "cell_type": "code",
   "execution_count": 6,
   "metadata": {},
   "outputs": [
    {
     "name": "stdout",
     "output_type": "stream",
     "text": [
      "The most affected area was Central America with 9 hurricane occurences.\n"
     ]
    }
   ],
   "source": [
    "def find_most_affected_area(affected_area_count):\n",
    "  location = \"\"\n",
    "  max_count = 0\n",
    "  for key in affected_area_count:\n",
    "    if affected_area_count.get(key) > max_count:\n",
    "      max_count = affected_area_count.get(key)\n",
    "      location = key\n",
    "  print(\"The most affected area was {location} with {hits} hurricane occurences.\".format(location=location, hits=max_count))\n",
    "\n",
    "find_most_affected_area(affected_area_data)"
   ]
  },
  {
   "cell_type": "markdown",
   "metadata": {},
   "source": [
    "### _6. Write a function that finds the hurricane that caused the greatest number of deaths, and how many deaths it caused._"
   ]
  },
  {
   "cell_type": "code",
   "execution_count": 7,
   "metadata": {},
   "outputs": [
    {
     "name": "stdout",
     "output_type": "stream",
     "text": [
      "The deadliest hurricane was hurricane Mitch with 19325 deaths.\n"
     ]
    }
   ],
   "source": [
    "def find_deadliest_hurricane(hurricane_dictionary):\n",
    "  hurricane = \"\"\n",
    "  max_deaths = 0\n",
    "  for key in hurricane_dictionary:\n",
    "    if hurricane_dictionary.get(key).get(\"Deaths\") > max_deaths:\n",
    "      max_deaths = hurricane_dictionary.get(key).get(\"Deaths\")\n",
    "      hurricane = key\n",
    "  print(\"The deadliest hurricane was hurricane {hurricane} with {deaths} deaths.\".format(hurricane=hurricane, deaths=max_deaths))\n",
    "\n",
    "find_deadliest_hurricane(hurricane_data)"
   ]
  },
  {
   "cell_type": "markdown",
   "metadata": {},
   "source": [
    "### _7. Write a function that rates hurricanes on a mortality scale according to the following ratings, where the key is the rating and the value is the upper bound of deaths for that rating._"
   ]
  },
  {
   "cell_type": "code",
   "execution_count": 8,
   "metadata": {},
   "outputs": [],
   "source": [
    "mortality_scale = {0: 0,\n",
    "                   1: 100,\n",
    "                   2: 500,\n",
    "                   3: 1000,\n",
    "                   4: 10000}\n",
    "\n",
    "def create_mortality_rating(hurricane_dictionary):\n",
    "  mortality_dictionary = {0: [], 1: [], 2: [], 3: [], 4: [], 5: []}\n",
    "  for key in hurricane_dictionary:\n",
    "    if hurricane_dictionary.get(key).get(\"Deaths\") > mortality_scale.get(4):\n",
    "      mortality_dictionary[5].append(hurricane_dictionary.get(key))\n",
    "    elif hurricane_dictionary.get(key).get(\"Deaths\") > mortality_scale.get(3):\n",
    "      mortality_dictionary[4].append(hurricane_dictionary.get(key))\n",
    "    elif hurricane_dictionary.get(key).get(\"Deaths\") > mortality_scale.get(2):\n",
    "      mortality_dictionary[3].append(hurricane_dictionary.get(key))    \n",
    "    elif hurricane_dictionary.get(key).get(\"Deaths\") > mortality_scale.get(1):\n",
    "      mortality_dictionary[2].append(hurricane_dictionary.get(key))      \n",
    "    elif hurricane_dictionary.get(key).get(\"Deaths\") > mortality_scale.get(0):\n",
    "      mortality_dictionary[1].append(hurricane_dictionary.get(key))      \n",
    "    elif hurricane_dictionary.get(key).get(\"Deaths\") > 0:\n",
    "      mortality_dictionary[5].append(hurricane_dictionary.get(key))\n",
    "\n",
    "  return mortality_dictionary"
   ]
  },
  {
   "cell_type": "markdown",
   "metadata": {},
   "source": [
    "### _8. Write a function that finds the hurricane that caused the greatest damage, and how costly it was._"
   ]
  },
  {
   "cell_type": "code",
   "execution_count": 9,
   "metadata": {},
   "outputs": [
    {
     "name": "stdout",
     "output_type": "stream",
     "text": [
      "The most damaging hurricane was Katrina causing 125.0 billion dollars in damages\n"
     ]
    }
   ],
   "source": [
    "def find_most_damaging_hurricane(hurricane_dictionary):\n",
    "  hurricane = \"\"\n",
    "  max_cost = 0\n",
    "  for key in hurricane_dictionary:\n",
    "    if isinstance(hurricane_dictionary.get(key).get(\"Damage\"), float):\n",
    "      if hurricane_dictionary.get(key).get(\"Damage\") > max_cost:\n",
    "        hurricane = key\n",
    "        max_cost = hurricane_dictionary.get(key).get(\"Damage\")\n",
    "  adjusted_damage = max_cost / 1000000000\n",
    "  print(\"The most damaging hurricane was {hurricane} causing {damage} billion dollars in damages\".format(hurricane=hurricane, damage=adjusted_damage))\n",
    "\n",
    "find_most_damaging_hurricane(hurricane_data)"
   ]
  },
  {
   "cell_type": "markdown",
   "metadata": {},
   "source": [
    "### _9. Write a function that rates hurricanes on a damage scale according to the following ratings, where the key is the rating and the value is the upper bound of damage for that rating._"
   ]
  },
  {
   "cell_type": "code",
   "execution_count": 10,
   "metadata": {},
   "outputs": [],
   "source": [
    "def create_damage_rating(hurricane_dictionary):\n",
    "  damage_dictionary = {0: [], 1: [], 2: [], 3: [], 4: [], 5: []}\n",
    "  for key in hurricane_dictionary:\n",
    "    if isinstance(hurricane_dictionary.get(key).get(\"Damage\"), float):\n",
    "      if hurricane_dictionary.get(key).get(\"Damage\") > damage_scale.get(4):\n",
    "        damage_dictionary[5].append(hurricane_dictionary.get(key))\n",
    "      elif hurricane_dictionary.get(key).get(\"Damage\") > damage_scale.get(3):\n",
    "        damage_dictionary[4].append(hurricane_dictionary.get(key))\n",
    "      elif hurricane_dictionary.get(key).get(\"Damage\") > damage_scale.get(2):\n",
    "        damage_dictionary[3].append(hurricane_dictionary.get(key))    \n",
    "      elif hurricane_dictionary.get(key).get(\"Damage\") > damage_scale.get(1):\n",
    "        damage_dictionary[2].append(hurricane_dictionary.get(key))      \n",
    "      elif hurricane_dictionary.get(key).get(\"Damage\") > damage_scale.get(0):\n",
    "        damage_dictionary[1].append(hurricane_dictionary.get(key))      \n",
    "      elif hurricane_dictionary.get(key).get(\"Damage\") > 0:\n",
    "        damage_dictionary[5].append(hurricane_dictionary.get(key))\n",
    "\n",
    "  return damage_dictionary"
   ]
  }
 ],
 "metadata": {
  "kernelspec": {
   "display_name": "Python 3",
   "language": "python",
   "name": "python3"
  },
  "language_info": {
   "codemirror_mode": {
    "name": "ipython",
    "version": 3
   },
   "file_extension": ".py",
   "mimetype": "text/x-python",
   "name": "python",
   "nbconvert_exporter": "python",
   "pygments_lexer": "ipython3",
   "version": "3.8.5"
  }
 },
 "nbformat": 4,
 "nbformat_minor": 4
}
